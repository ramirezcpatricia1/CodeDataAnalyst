{
  "nbformat": 4,
  "nbformat_minor": 0,
  "metadata": {
    "colab": {
      "provenance": [],
      "name": "Clase1-javascript.ipynb",
      "authorship_tag": "ABX9TyPVvOEunafqGyjwA06w+SrO",
      "include_colab_link": true
    },
    "kernelspec": {
      "name": "python3",
      "display_name": "Python 3"
    },
    "language_info": {
      "name": "python"
    }
  },
  "cells": [
    {
      "cell_type": "markdown",
      "metadata": {
        "id": "view-in-github",
        "colab_type": "text"
      },
      "source": [
        "<a href=\"https://colab.research.google.com/github/ramirezcpatricia1/CodeDataAnalyst/blob/main/Clase1_javascript.ipynb\" target=\"_parent\"><img src=\"https://colab.research.google.com/assets/colab-badge.svg\" alt=\"Open In Colab\"/></a>"
      ]
    },
    {
      "cell_type": "code",
      "execution_count": null,
      "metadata": {
        "id": "tpVr7ptIuNOd"
      },
      "outputs": [],
      "source": []
    },
    {
      "cell_type": "markdown",
      "source": [
        "Entrenar dinamismo a las paginas, para que consumidores y productores pudiesen interactuar.\n",
        "\n",
        "Javascript:orientado 100 % para paginas web volverlas mas dinamicas que luego se convierten en aplicaciones web.\n",
        "\n",
        "**1. Es un lenguaje interpretados**\n",
        "**2. Orientado a objetos:**\n",
        "      Ejemplo: las personas que hacen una red social, generan un ubjeto que se llaman usuarios y cada persona que se registre va ser un usuario de ese objeto. Cada usuario tiene particularidades, nombre, edad, nacionalidad, algunos gustos. Despues quedan guardados en usuario que hace parte de usuarios. Despues ya pueden empezar a ocupar la informacion de Usuarios como objeto para mostrarte tu informacion una vez que tu entras a tu pagina web o a tu usuario de tu red social.\n",
        "\n",
        "**3. Debilmente tipado**\n",
        "\n",
        "      Es la interpretacion que hace javascript:\n",
        "\n",
        "      4 + \"7\"; javascript resgresa 47 en otro lenguaje arroja error\n",
        "      4 * \"7\"; javascript regresa 28\n",
        "      2 + True; javascript trae 3 porque asume True como = 1\n",
        "      False - 3; javascript trae -3 porque asume False como = 0\n",
        "\n",
        "      \n",
        "**4. Dinamico**\n",
        "\n",
        "    Existen dos partes importantes\n",
        "\n",
        "    **compilación:** la maquina solo entiende un lenguaje que es bycode que son numeros binarios 0 y 1.\n",
        "    \n",
        "    En la etapa de compilacion cuando trabajs en tu programa y quieres saber si funciona o no debes mandarlo a una eapa de compilación donde traduce lo qeu estas haciendo.\n",
        "\n",
        "    lenguajes estaticos antes de probarlos debes compilarlos , esto pasa con\n",
        "    C++, C, Java\n",
        "\n",
        "    Runetime: no tienes que ir a ninguna seccion para que compile solo vas al navegador y miras si funciona o no.\n",
        "\n",
        "    como el lenguaje es interpretado javascript lee linea por linea es decir que sucede sobre la etapa de runetime. esto es porque esta el motor de V8 de javascript que es el interprete de javascript, ese motor hace la compilacion para que la maquina pueda entendder lo que estamos haciendo.\n",
        "\n",
        "\n",
        "    **javascript es backwards**\n",
        "\n",
        "    Esto quiere decir que para utilizar versiones mas actualzadas debo utilizar **BABEL** permite utilizar las nuegvas funciones para que puedas utilizar en tu entorno de trabajo."
      ],
      "metadata": {
        "id": "ZRE2Ppk-uP4Q"
      }
    },
    {
      "cell_type": "markdown",
      "source": [],
      "metadata": {
        "id": "q1SBNRj7732m"
      }
    },
    {
      "cell_type": "code",
      "source": [],
      "metadata": {
        "id": "RtOdXMt99MPz"
      },
      "execution_count": null,
      "outputs": []
    }
  ]
}