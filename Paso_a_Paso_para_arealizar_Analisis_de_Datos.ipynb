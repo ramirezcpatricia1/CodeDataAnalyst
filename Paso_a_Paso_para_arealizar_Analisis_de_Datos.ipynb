{
  "nbformat": 4,
  "nbformat_minor": 0,
  "metadata": {
    "colab": {
      "provenance": [],
      "authorship_tag": "ABX9TyOMvs5+zFC5Oj7v2JiKBeaM",
      "include_colab_link": true
    },
    "kernelspec": {
      "name": "python3",
      "display_name": "Python 3"
    },
    "language_info": {
      "name": "python"
    }
  },
  "cells": [
    {
      "cell_type": "markdown",
      "metadata": {
        "id": "view-in-github",
        "colab_type": "text"
      },
      "source": [
        "<a href=\"https://colab.research.google.com/github/ramirezcpatricia1/CodeDataAnalyst/blob/main/Paso_a_Paso_para_arealizar_Analisis_de_Datos.ipynb\" target=\"_parent\"><img src=\"https://colab.research.google.com/assets/colab-badge.svg\" alt=\"Open In Colab\"/></a>"
      ]
    },
    {
      "cell_type": "code",
      "execution_count": null,
      "metadata": {
        "id": "S1c5NJh2pCMP"
      },
      "outputs": [],
      "source": []
    },
    {
      "cell_type": "markdown",
      "source": [
        "Basado en Clase Platzi , Analisis exploratorio Basico"
      ],
      "metadata": {
        "id": "1odaBUmcq5N1"
      }
    },
    {
      "cell_type": "markdown",
      "source": [
        "**Preguntas respecto a datos**\n",
        "\n",
        "> Bloque con sangría\n",
        "\n",
        "\n",
        "\n",
        "Cuantas observaciones existen:  2500 rows * 10 columns **texto en negrita**\n",
        "\n",
        "Cuantas variables hay: 10 variables\n",
        "\n",
        "Necesito todas las observaciones: si\n",
        "\n",
        "Necesito todas las variables: si"
      ],
      "metadata": {
        "id": "XMijRduHpEdu"
      }
    },
    {
      "cell_type": "markdown",
      "source": [
        "**Preguntas respecto a vaCategorizacion de variables**\n",
        "\n",
        "Cuantas variables categoricas existen:Subscription Type, country,\n",
        "\n",
        "cuantas variables continuas existen\n",
        "\n",
        "como puedo explorar cada variable respecto a su categoria"
      ],
      "metadata": {
        "id": "w3pWrw9epoLN"
      }
    },
    {
      "cell_type": "markdown",
      "source": [
        "**Preguntas respecto a Limpieza y Validación de datos**\n",
        "\n",
        "Tengo datos faltantes\n",
        "\n",
        "cual es la proporcion de datos faltantes\n",
        "\n",
        "como puedo tratar los datos faltantes\n",
        "\n",
        "cual es la distribucion de los datos\n",
        "\n",
        "TEngo valores atipicos"
      ],
      "metadata": {
        "id": "f3G51kRdptRc"
      }
    },
    {
      "cell_type": "markdown",
      "source": [
        "**Pregutnas respecto a relaicon de variables**\n",
        "\n",
        "1. existe relacion e trne variables x y Y\n",
        "2.Que pasa si ahora considero la variable z en el analisis\n",
        "\n",
        "3. que significa que las observaciones se agruppen\n",
        "\n",
        "4. que significa el patron qeu se observa"
      ],
      "metadata": {
        "id": "ZGnIUX8Vpwy5"
      }
    }
  ]
}